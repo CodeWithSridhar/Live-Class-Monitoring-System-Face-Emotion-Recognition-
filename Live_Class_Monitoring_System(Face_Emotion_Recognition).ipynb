{
  "nbformat": 4,
  "nbformat_minor": 0,
  "metadata": {
    "colab": {
      "name": "Live Class Monitoring System(Face Emotion Recognition).ipynb",
      "provenance": [],
      "authorship_tag": "ABX9TyMvhaDDD8ReYyjgoatfSKx9",
      "include_colab_link": true
    },
    "kernelspec": {
      "name": "python3",
      "display_name": "Python 3"
    },
    "language_info": {
      "name": "python"
    }
  },
  "cells": [
    {
      "cell_type": "markdown",
      "metadata": {
        "id": "view-in-github",
        "colab_type": "text"
      },
      "source": [
        "<a href=\"https://colab.research.google.com/github/CodeWithSridhar/Live-Class-Monitoring-System-Face-Emotion-Recognition-/blob/main/Live_Class_Monitoring_System(Face_Emotion_Recognition).ipynb\" target=\"_parent\"><img src=\"https://colab.research.google.com/assets/colab-badge.svg\" alt=\"Open In Colab\"/></a>"
      ]
    },
    {
      "cell_type": "markdown",
      "source": [
        "# **Live Class Monitoring System(Face Emotion Recognition)**"
      ],
      "metadata": {
        "id": "t5oBnMXAtyu2"
      }
    },
    {
      "cell_type": "markdown",
      "source": [
        "## **Project Introduction**"
      ],
      "metadata": {
        "id": "wajY55Bgt8B8"
      }
    },
    {
      "cell_type": "markdown",
      "source": [
        "\n",
        "The Indian education landscape has been undergoing rapid changes for the past 10 years owing to\n",
        "the advancement of web-based learning services, specifically, eLearning platforms.\n",
        "Global E-learning is estimated to witness an 8X over the next 5 years to reach USD 2B in 2021. India\n",
        "is expected to grow with a CAGR of 44% crossing the 10M users mark in 2021. Although the market\n",
        "is growing on a rapid scale, there are major challenges associated with digital learning when\n",
        "compared with brick and mortar classrooms. One of many challenges is how to ensure quality\n",
        "learning for students. Digital platforms might overpower physical classrooms in terms of content\n",
        "quality but when it comes to understanding whether students are able to grasp the content in a live\n",
        "class scenario is yet an open-end challenge.\n",
        "In a physical classroom during a lecturing teacher can see the faces and assess the emotion of the\n",
        "class and tune their lecture accordingly, whether he is going fast or slow. He can identify students who\n",
        "need special attention. Digital classrooms are conducted via video telephony software program (ex\u0002Zoom) where it’s not possible for medium scale class (25-50) to see all students and access the\n",
        "mood. Because of this drawback, students are not focusing on content due to lack of surveillance.\n",
        "While digital platforms have limitations in terms of physical surveillance but it comes with the power of\n",
        "data and machines which can work for you. It provides data in the form of video, audio, and texts\n",
        "which can be analysed using deep learning algorithms. Deep learning backed system not only solves\n",
        "the surveillance issue, but it also removes the human bias from the system, and all information is no\n",
        "longer in the teacher’s brain rather translated in numbers that can be analysed and tracked."
      ],
      "metadata": {
        "id": "pafmrOjgt3lv"
      }
    },
    {
      "cell_type": "markdown",
      "source": [
        "## **Problem Statements**"
      ],
      "metadata": {
        "id": "mpzom3ctuDpT"
      }
    },
    {
      "cell_type": "markdown",
      "source": [
        "\n",
        "We will solve the above-mentioned challenge by applying deep learning algorithms to live video data.\n",
        "The solution to this problem is by recognizing facial emotions"
      ],
      "metadata": {
        "id": "ejAwf6PPt_YD"
      }
    },
    {
      "cell_type": "markdown",
      "source": [
        "## **Face Emotion Recognition**"
      ],
      "metadata": {
        "id": "BMuxSuSKuKin"
      }
    },
    {
      "cell_type": "markdown",
      "source": [
        "\n",
        "This is a few shot learning live face emotion detection system. The model should be able to real-time\n",
        "identify the emotions of students in a live class."
      ],
      "metadata": {
        "id": "EdE1DJvouHGP"
      }
    },
    {
      "cell_type": "markdown",
      "source": [
        "### **Head-start References**"
      ],
      "metadata": {
        "id": "H6R-7JlKuR0N"
      }
    },
    {
      "cell_type": "markdown",
      "source": [
        "\n",
        "❖ https://towardsdatascience.com/face-detection-recognition-and-emotion-detection-in-8-lin\n",
        "es-of-code-b2ce32d4d5de\n",
        "\n",
        "❖ https://towardsdatascience.com/video-facial-expression-detection-with-deep-learning-appl\n",
        "ying-fast-ai-d9dcfd5bcf10\n",
        "\n",
        "❖ https://github.com/atulapra/Emotion-detection\n",
        "\n",
        "❖ https://medium.com/analytics-vidhya/building-a-real-time-emotion-detector-towards-machi\n",
        "ne-with-e-q-c20b17f89220"
      ],
      "metadata": {
        "id": "cj223-iwuGlI"
      }
    },
    {
      "cell_type": "markdown",
      "source": [
        "## **Scope of project**"
      ],
      "metadata": {
        "id": "yWyM4Kr0uhWR"
      }
    },
    {
      "cell_type": "markdown",
      "source": [
        "\n",
        "A. Model should be able to identify students’ emotions using minimum reference images.\n",
        "\n",
        "B. Model should work on the real-time webcam video feed.\n",
        "\n",
        "C. Model must be deployed on AWS/GCP/Azure platform as an end-to-end solution.\n",
        "\n",
        "D. Model must be accessible via a web application (Streamlit) for demo purposes"
      ],
      "metadata": {
        "id": "ZT05C9cHucpy"
      }
    },
    {
      "cell_type": "markdown",
      "source": [
        "## Dataset link - \n",
        "https://www.kaggle.com/msambare/fer2013"
      ],
      "metadata": {
        "id": "OzXkweVf6WAU"
      }
    },
    {
      "cell_type": "code",
      "source": [
        "# importing zip file from my google drive and extracted it here.\n",
        "from zipfile import ZipFile\n",
        "filename = '/content/drive/MyDrive/Almabetter/Capstone project/Face emotion Recognition-Capstone project-5/Data/archive_FER2013_Dataset.zip'\n",
        "\n",
        "# extract it\n",
        "with ZipFile(filename , 'r') as zip:\n",
        "  zip.extractall()\n",
        "  print('Zip file extracted successfully')"
      ],
      "metadata": {
        "id": "cwxHR2wqEMrS"
      },
      "execution_count": null,
      "outputs": []
    },
    {
      "cell_type": "code",
      "execution_count": null,
      "metadata": {
        "id": "2Iy-QtEptmHx"
      },
      "outputs": [],
      "source": [
        "# Importing all the required Libraries\n",
        "\n",
        "import tensorflow as tf \n",
        "from tensorflow import keras\n",
        "from tensorflow.keras.models import Sequential                                                            \n",
        "from tensorflow.keras import layers\n",
        "from tensorflow.keras.layers import Conv2D,MaxPooling2D, Dense, Dropout, Flatten, BatchNormalization,Activation\n",
        "from tensorflow.keras.preprocessing.image import ImageDataGenerator\n",
        "from tensorflow.keras.optimizers import Adam\n",
        "import matplotlib.pyplot as plt\n",
        "from matplotlib.image import imread\n",
        "from tensorflow.keras.callbacks import EarlyStopping, ModelCheckpoint, ReduceLROnPlateau\n",
        "from tensorflow.keras.models import load_model\n",
        "from tensorflow.keras import Model\n",
        "from sklearn.metrics import confusion_matrix, classification_report\n",
        "from sklearn.metrics import accuracy_score\n",
        "from sklearn.model_selection import train_test_split\n",
        "from tensorflow.keras.utils import to_categorical\n",
        "import numpy as np \n",
        "import cv2\n",
        "import os\n",
        "\n",
        "# Removing all those annoying Warnings\n",
        "\n",
        "import warnings                                                                                \n",
        "warnings.filterwarnings('ignore')\n",
        "warnings.simplefilter('ignore')"
      ]
    },
    {
      "cell_type": "code",
      "source": [
        "print(\"Tensorflow version:\", tf.__version__)"
      ],
      "metadata": {
        "colab": {
          "base_uri": "https://localhost:8080/"
        },
        "id": "fu-j0N9O5QLs",
        "outputId": "a4f377c5-ebae-48e4-b3d7-a303bf033047"
      },
      "execution_count": null,
      "outputs": [
        {
          "output_type": "stream",
          "name": "stdout",
          "text": [
            "Tensorflow version: 2.7.0\n"
          ]
        }
      ]
    },
    {
      "cell_type": "code",
      "source": [
        "from google.colab import drive\n",
        "drive.mount('/content/drive')"
      ],
      "metadata": {
        "colab": {
          "base_uri": "https://localhost:8080/"
        },
        "id": "vuUipUdoIMht",
        "outputId": "c94a9a56-4784-4f9b-8346-745ce7d7158d"
      },
      "execution_count": null,
      "outputs": [
        {
          "output_type": "stream",
          "name": "stdout",
          "text": [
            "Mounted at /content/drive\n"
          ]
        }
      ]
    },
    {
      "cell_type": "code",
      "source": [
        "# importing zip file from my google drive and extracted it here.\n",
        "from zipfile import ZipFile\n",
        "filename = '/content/drive/MyDrive/AlmaBetter Folder/Capastone_Project_5_Face_Emotion_Recognition/archive.zip'\n",
        "\n",
        "# extract it\n",
        "with ZipFile(filename , 'r') as zip:\n",
        "  zip.extractall()\n",
        "  print('Zip file extracted successfully')"
      ],
      "metadata": {
        "colab": {
          "base_uri": "https://localhost:8080/"
        },
        "id": "QY5Jygr7Innl",
        "outputId": "70e222f2-799e-497a-cee3-5d4f1064ad42"
      },
      "execution_count": null,
      "outputs": [
        {
          "output_type": "stream",
          "name": "stdout",
          "text": [
            "Zip file extracted successfully\n"
          ]
        }
      ]
    }
  ]
}