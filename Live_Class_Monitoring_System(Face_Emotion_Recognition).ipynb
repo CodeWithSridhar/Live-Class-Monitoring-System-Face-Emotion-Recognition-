{
  "nbformat": 4,
  "nbformat_minor": 0,
  "metadata": {
    "colab": {
      "name": "Live Class Monitoring System(Face Emotion Recognition).ipynb",
      "provenance": [],
      "authorship_tag": "ABX9TyPTo23m47Z5Cv5kcWCT3Yle",
      "include_colab_link": true
    },
    "kernelspec": {
      "name": "python3",
      "display_name": "Python 3"
    },
    "language_info": {
      "name": "python"
    }
  },
  "cells": [
    {
      "cell_type": "markdown",
      "metadata": {
        "id": "view-in-github",
        "colab_type": "text"
      },
      "source": [
        "<a href=\"https://colab.research.google.com/github/CodeWithSridhar/Live-Class-Monitoring-System-Face-Emotion-Recognition-/blob/main/Live_Class_Monitoring_System(Face_Emotion_Recognition).ipynb\" target=\"_parent\"><img src=\"https://colab.research.google.com/assets/colab-badge.svg\" alt=\"Open In Colab\"/></a>"
      ]
    },
    {
      "cell_type": "markdown",
      "source": [
        "# **Live Class Monitoring System(Face Emotion Recognition)**"
      ],
      "metadata": {
        "id": "t5oBnMXAtyu2"
      }
    },
    {
      "cell_type": "markdown",
      "source": [
        "## **Project Introduction**"
      ],
      "metadata": {
        "id": "wajY55Bgt8B8"
      }
    },
    {
      "cell_type": "markdown",
      "source": [
        "\n",
        "The Indian education landscape has been undergoing rapid changes for the past 10 years owing to\n",
        "the advancement of web-based learning services, specifically, eLearning platforms.\n",
        "Global E-learning is estimated to witness an 8X over the next 5 years to reach USD 2B in 2021. India\n",
        "is expected to grow with a CAGR of 44% crossing the 10M users mark in 2021. Although the market\n",
        "is growing on a rapid scale, there are major challenges associated with digital learning when\n",
        "compared with brick and mortar classrooms. One of many challenges is how to ensure quality\n",
        "learning for students. Digital platforms might overpower physical classrooms in terms of content\n",
        "quality but when it comes to understanding whether students are able to grasp the content in a live\n",
        "class scenario is yet an open-end challenge.\n",
        "In a physical classroom during a lecturing teacher can see the faces and assess the emotion of the\n",
        "class and tune their lecture accordingly, whether he is going fast or slow. He can identify students who\n",
        "need special attention. Digital classrooms are conducted via video telephony software program (ex\u0002Zoom) where it’s not possible for medium scale class (25-50) to see all students and access the\n",
        "mood. Because of this drawback, students are not focusing on content due to lack of surveillance.\n",
        "While digital platforms have limitations in terms of physical surveillance but it comes with the power of\n",
        "data and machines which can work for you. It provides data in the form of video, audio, and texts\n",
        "which can be analysed using deep learning algorithms. Deep learning backed system not only solves\n",
        "the surveillance issue, but it also removes the human bias from the system, and all information is no\n",
        "longer in the teacher’s brain rather translated in numbers that can be analysed and tracked."
      ],
      "metadata": {
        "id": "pafmrOjgt3lv"
      }
    },
    {
      "cell_type": "markdown",
      "source": [
        "## **Problem Statements**"
      ],
      "metadata": {
        "id": "mpzom3ctuDpT"
      }
    },
    {
      "cell_type": "markdown",
      "source": [
        "\n",
        "We will solve the above-mentioned challenge by applying deep learning algorithms to live video data.\n",
        "The solution to this problem is by recognizing facial emotions"
      ],
      "metadata": {
        "id": "ejAwf6PPt_YD"
      }
    },
    {
      "cell_type": "markdown",
      "source": [
        "## **Face Emotion Recognition**"
      ],
      "metadata": {
        "id": "BMuxSuSKuKin"
      }
    },
    {
      "cell_type": "markdown",
      "source": [
        "\n",
        "This is a few shot learning live face emotion detection system. The model should be able to real-time\n",
        "identify the emotions of students in a live class."
      ],
      "metadata": {
        "id": "EdE1DJvouHGP"
      }
    },
    {
      "cell_type": "markdown",
      "source": [
        "### **Head-start References**"
      ],
      "metadata": {
        "id": "H6R-7JlKuR0N"
      }
    },
    {
      "cell_type": "markdown",
      "source": [
        "\n",
        "❖ https://towardsdatascience.com/face-detection-recognition-and-emotion-detection-in-8-lin\n",
        "es-of-code-b2ce32d4d5de\n",
        "\n",
        "❖ https://towardsdatascience.com/video-facial-expression-detection-with-deep-learning-appl\n",
        "ying-fast-ai-d9dcfd5bcf10\n",
        "\n",
        "❖ https://github.com/atulapra/Emotion-detection\n",
        "\n",
        "❖ https://medium.com/analytics-vidhya/building-a-real-time-emotion-detector-towards-machi\n",
        "ne-with-e-q-c20b17f89220"
      ],
      "metadata": {
        "id": "cj223-iwuGlI"
      }
    },
    {
      "cell_type": "markdown",
      "source": [
        "## **Scope of project**"
      ],
      "metadata": {
        "id": "yWyM4Kr0uhWR"
      }
    },
    {
      "cell_type": "markdown",
      "source": [
        "\n",
        "A. Model should be able to identify students’ emotions using minimum reference images.\n",
        "\n",
        "B. Model should work on the real-time webcam video feed.\n",
        "\n",
        "C. Model must be deployed on AWS/GCP/Azure platform as an end-to-end solution.\n",
        "\n",
        "D. Model must be accessible via a web application (Streamlit) for demo purposes"
      ],
      "metadata": {
        "id": "ZT05C9cHucpy"
      }
    },
    {
      "cell_type": "markdown",
      "source": [
        "## Dataset link - \n",
        "https://www.kaggle.com/msambare/fer2013"
      ],
      "metadata": {
        "id": "OzXkweVf6WAU"
      }
    },
    {
      "cell_type": "code",
      "execution_count": null,
      "metadata": {
        "id": "2Iy-QtEptmHx"
      },
      "outputs": [],
      "source": [
        "import cv2"
      ]
    }
  ]
}